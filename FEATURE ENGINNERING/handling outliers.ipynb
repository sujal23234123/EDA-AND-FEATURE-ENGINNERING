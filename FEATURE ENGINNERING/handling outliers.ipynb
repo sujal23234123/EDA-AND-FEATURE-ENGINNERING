{
 "cells": [
  {
   "cell_type": "code",
   "execution_count": 16,
   "id": "405a31e6",
   "metadata": {},
   "outputs": [
    {
     "name": "stdout",
     "output_type": "stream",
     "text": [
      "the sorted data is   [1, 32, 32, 32, 34, 43, 43, 45, 45, 45, 54, 54, 56, 56, 56, 56, 65, 67, 76, 78, 78, 87, 87, 113]\n",
      "The 25 percentile of the data is  : [43.]\n",
      "The 75 percentile oftha data is  :  [69.25]\n",
      "The IQR is  : [26.25]\n",
      "The lower fence value lies between : [3.625]\n",
      "the higher fence value lies between  : [108.625]\n",
      "the outliers are not found between [3.625] to [108.625] \n",
      "the median of the dataset is  : 55.0\n",
      "the minimum value of the data is  : 1\n"
     ]
    },
    {
     "data": {
      "text/plain": [
       "<Axes: >"
      ]
     },
     "execution_count": 16,
     "metadata": {},
     "output_type": "execute_result"
    },
    {
     "data": {
      "image/png": "[encoded data removed]",
      "text/plain": [
       "<Figure size 640x480 with 1 Axes>"
      ]
     },
     "metadata": {},
     "output_type": "display_data"
    }
   ],
   "source": [
    "import numpy as np\n",
    "import seaborn as sns\n",
    "\n",
    "data=[1,54,56,32,54,87,65,45,78,43,45,32,56,67,78,56,34,32,45,76,87,56,43,113]\n",
    "sorteddata=sorted(data)\n",
    "\n",
    "print(\"the sorted data is  \" ,sorteddata)\n",
    "\n",
    "\n",
    "#q1\n",
    "\n",
    "Q1=np.percentile(data,[25])\n",
    "print(\"The 25 percentile of the data is  :\",Q1)\n",
    "\n",
    "#Q3\n",
    "\n",
    "Q3=np.percentile(data,[75])\n",
    "print(\"The 75 percentile oftha data is  : \",Q3)\n",
    "\n",
    "\n",
    "#IQR\n",
    "\n",
    "IQR=Q3-Q1\n",
    "print(\"The IQR is  :\",IQR)\n",
    "\n",
    "#lower fence\n",
    "\n",
    "lower_fence=Q1-1.5*(IQR)\n",
    "print(\"The lower fence value lies between :\",lower_fence)\n",
    "\n",
    "#higher fence\n",
    "\n",
    "higher_fence=Q3+1.5*(IQR)\n",
    "print(\"the higher fence value lies between  :\",higher_fence)\n",
    "\n",
    "#boundary\n",
    "\n",
    "print(f\"the outliers are not found between {lower_fence} to {higher_fence} \")\n",
    "\n",
    "#median\n",
    "\n",
    "median=np.median(data)\n",
    "print(\"the median of the dataset is  :\",median)\n",
    "\n",
    "#minimum\n",
    "\n",
    "minimum=np.min(data)\n",
    "print(\"the minimum value of the data is  :\",minimum)\n",
    "\n",
    "#boxplot\n",
    "\n",
    "sns.boxplot(data)\n",
    "\n",
    "\n"
   ]
  },
  {
   "cell_type": "code",
   "execution_count": null,
   "id": "1a09101b",
   "metadata": {},
   "outputs": [],
   "source": []
  },
  {
   "cell_type": "code",
   "execution_count": null,
   "id": "7002ec99",
   "metadata": {},
   "outputs": [],
   "source": []
  },
  {
   "cell_type": "code",
   "execution_count": null,
   "id": "e1bc1a84",
   "metadata": {},
   "outputs": [],
   "source": []
  },
  {
   "cell_type": "code",
   "execution_count": null,
   "id": "b62aab97",
   "metadata": {},
   "outputs": [],
   "source": []
  },
  {
   "cell_type": "code",
   "execution_count": null,
   "id": "a19c2cc7",
   "metadata": {},
   "outputs": [],
   "source": []
  },
  {
   "cell_type": "code",
   "execution_count": null,
   "id": "e56ddabe",
   "metadata": {},
   "outputs": [],
   "source": []
  },
  {
   "cell_type": "code",
   "execution_count": null,
   "id": "30b41145",
   "metadata": {},
   "outputs": [],
   "source": []
  },
  {
   "cell_type": "code",
   "execution_count": null,
   "id": "ab7db6c5",
   "metadata": {},
   "outputs": [],
   "source": []
  },
  {
   "cell_type": "code",
   "execution_count": null,
   "id": "2ef5c9d3",
   "metadata": {},
   "outputs": [],
   "source": []
  },
  {
   "cell_type": "code",
   "execution_count": null,
   "id": "3fce3a05",
   "metadata": {},
   "outputs": [],
   "source": []
  },
  {
   "cell_type": "code",
   "execution_count": null,
   "id": "6f4ad5b3",
   "metadata": {},
   "outputs": [],
   "source": []
  },
  {
   "cell_type": "code",
   "execution_count": null,
   "id": "230d8d29",
   "metadata": {},
   "outputs": [],
   "source": []
  }
 ],
 "metadata": {
  "kernelspec": {
   "display_name": "Python 3",
   "language": "python",
   "name": "python3"
  },
  "language_info": {
   "codemirror_mode": {
    "name": "ipython",
    "version": 3
   },
   "file_extension": ".py",
   "mimetype": "text/x-python",
   "name": "python",
   "nbconvert_exporter": "python",
   "pygments_lexer": "ipython3",
   "version": "3.12.0"
  }
 },
 "nbformat": 4,
 "nbformat_minor": 5
}
